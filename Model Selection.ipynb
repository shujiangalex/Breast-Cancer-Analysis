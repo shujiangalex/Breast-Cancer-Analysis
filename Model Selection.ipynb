{
 "cells": [
  {
   "cell_type": "code",
   "execution_count": 88,
   "metadata": {},
   "outputs": [
    {
     "data": {
      "text/html": [
       "<div>\n",
       "<style scoped>\n",
       "    .dataframe tbody tr th:only-of-type {\n",
       "        vertical-align: middle;\n",
       "    }\n",
       "\n",
       "    .dataframe tbody tr th {\n",
       "        vertical-align: top;\n",
       "    }\n",
       "\n",
       "    .dataframe thead th {\n",
       "        text-align: right;\n",
       "    }\n",
       "</style>\n",
       "<table border=\"1\" class=\"dataframe\">\n",
       "  <thead>\n",
       "    <tr style=\"text-align: right;\">\n",
       "      <th></th>\n",
       "      <th>diagnosis</th>\n",
       "      <th>perimeter_worst</th>\n",
       "      <th>concave points_worst</th>\n",
       "      <th>area_worst</th>\n",
       "      <th>radius_worst</th>\n",
       "      <th>concave points_mean</th>\n",
       "      <th>concavity_mean</th>\n",
       "      <th>perimeter_mean</th>\n",
       "      <th>area_mean</th>\n",
       "      <th>radius_mean</th>\n",
       "      <th>concavity_worst</th>\n",
       "    </tr>\n",
       "  </thead>\n",
       "  <tbody>\n",
       "    <tr>\n",
       "      <th>0</th>\n",
       "      <td>1</td>\n",
       "      <td>184.60</td>\n",
       "      <td>0.2654</td>\n",
       "      <td>2019.0</td>\n",
       "      <td>25.380</td>\n",
       "      <td>0.14710</td>\n",
       "      <td>0.30010</td>\n",
       "      <td>122.80</td>\n",
       "      <td>1001.0</td>\n",
       "      <td>17.99</td>\n",
       "      <td>0.7119</td>\n",
       "    </tr>\n",
       "    <tr>\n",
       "      <th>1</th>\n",
       "      <td>1</td>\n",
       "      <td>158.80</td>\n",
       "      <td>0.1860</td>\n",
       "      <td>1956.0</td>\n",
       "      <td>24.990</td>\n",
       "      <td>0.07017</td>\n",
       "      <td>0.08690</td>\n",
       "      <td>132.90</td>\n",
       "      <td>1326.0</td>\n",
       "      <td>20.57</td>\n",
       "      <td>0.2416</td>\n",
       "    </tr>\n",
       "    <tr>\n",
       "      <th>2</th>\n",
       "      <td>1</td>\n",
       "      <td>152.50</td>\n",
       "      <td>0.2430</td>\n",
       "      <td>1709.0</td>\n",
       "      <td>23.570</td>\n",
       "      <td>0.12790</td>\n",
       "      <td>0.19740</td>\n",
       "      <td>130.00</td>\n",
       "      <td>1203.0</td>\n",
       "      <td>19.69</td>\n",
       "      <td>0.4504</td>\n",
       "    </tr>\n",
       "    <tr>\n",
       "      <th>3</th>\n",
       "      <td>1</td>\n",
       "      <td>98.87</td>\n",
       "      <td>0.2575</td>\n",
       "      <td>567.7</td>\n",
       "      <td>14.910</td>\n",
       "      <td>0.10520</td>\n",
       "      <td>0.24140</td>\n",
       "      <td>77.58</td>\n",
       "      <td>386.1</td>\n",
       "      <td>11.42</td>\n",
       "      <td>0.6869</td>\n",
       "    </tr>\n",
       "    <tr>\n",
       "      <th>4</th>\n",
       "      <td>1</td>\n",
       "      <td>152.20</td>\n",
       "      <td>0.1625</td>\n",
       "      <td>1575.0</td>\n",
       "      <td>22.540</td>\n",
       "      <td>0.10430</td>\n",
       "      <td>0.19800</td>\n",
       "      <td>135.10</td>\n",
       "      <td>1297.0</td>\n",
       "      <td>20.29</td>\n",
       "      <td>0.4000</td>\n",
       "    </tr>\n",
       "    <tr>\n",
       "      <th>...</th>\n",
       "      <td>...</td>\n",
       "      <td>...</td>\n",
       "      <td>...</td>\n",
       "      <td>...</td>\n",
       "      <td>...</td>\n",
       "      <td>...</td>\n",
       "      <td>...</td>\n",
       "      <td>...</td>\n",
       "      <td>...</td>\n",
       "      <td>...</td>\n",
       "      <td>...</td>\n",
       "    </tr>\n",
       "    <tr>\n",
       "      <th>564</th>\n",
       "      <td>1</td>\n",
       "      <td>166.10</td>\n",
       "      <td>0.2216</td>\n",
       "      <td>2027.0</td>\n",
       "      <td>25.450</td>\n",
       "      <td>0.13890</td>\n",
       "      <td>0.24390</td>\n",
       "      <td>142.00</td>\n",
       "      <td>1479.0</td>\n",
       "      <td>21.56</td>\n",
       "      <td>0.4107</td>\n",
       "    </tr>\n",
       "    <tr>\n",
       "      <th>565</th>\n",
       "      <td>1</td>\n",
       "      <td>155.00</td>\n",
       "      <td>0.1628</td>\n",
       "      <td>1731.0</td>\n",
       "      <td>23.690</td>\n",
       "      <td>0.09791</td>\n",
       "      <td>0.14400</td>\n",
       "      <td>131.20</td>\n",
       "      <td>1261.0</td>\n",
       "      <td>20.13</td>\n",
       "      <td>0.3215</td>\n",
       "    </tr>\n",
       "    <tr>\n",
       "      <th>566</th>\n",
       "      <td>1</td>\n",
       "      <td>126.70</td>\n",
       "      <td>0.1418</td>\n",
       "      <td>1124.0</td>\n",
       "      <td>18.980</td>\n",
       "      <td>0.05302</td>\n",
       "      <td>0.09251</td>\n",
       "      <td>108.30</td>\n",
       "      <td>858.1</td>\n",
       "      <td>16.60</td>\n",
       "      <td>0.3403</td>\n",
       "    </tr>\n",
       "    <tr>\n",
       "      <th>567</th>\n",
       "      <td>1</td>\n",
       "      <td>184.60</td>\n",
       "      <td>0.2650</td>\n",
       "      <td>1821.0</td>\n",
       "      <td>25.740</td>\n",
       "      <td>0.15200</td>\n",
       "      <td>0.35140</td>\n",
       "      <td>140.10</td>\n",
       "      <td>1265.0</td>\n",
       "      <td>20.60</td>\n",
       "      <td>0.9387</td>\n",
       "    </tr>\n",
       "    <tr>\n",
       "      <th>568</th>\n",
       "      <td>0</td>\n",
       "      <td>59.16</td>\n",
       "      <td>0.0000</td>\n",
       "      <td>268.6</td>\n",
       "      <td>9.456</td>\n",
       "      <td>0.00000</td>\n",
       "      <td>0.00000</td>\n",
       "      <td>47.92</td>\n",
       "      <td>181.0</td>\n",
       "      <td>7.76</td>\n",
       "      <td>0.0000</td>\n",
       "    </tr>\n",
       "  </tbody>\n",
       "</table>\n",
       "<p>569 rows × 11 columns</p>\n",
       "</div>"
      ],
      "text/plain": [
       "     diagnosis  perimeter_worst  concave points_worst  area_worst  \\\n",
       "0            1           184.60                0.2654      2019.0   \n",
       "1            1           158.80                0.1860      1956.0   \n",
       "2            1           152.50                0.2430      1709.0   \n",
       "3            1            98.87                0.2575       567.7   \n",
       "4            1           152.20                0.1625      1575.0   \n",
       "..         ...              ...                   ...         ...   \n",
       "564          1           166.10                0.2216      2027.0   \n",
       "565          1           155.00                0.1628      1731.0   \n",
       "566          1           126.70                0.1418      1124.0   \n",
       "567          1           184.60                0.2650      1821.0   \n",
       "568          0            59.16                0.0000       268.6   \n",
       "\n",
       "     radius_worst  concave points_mean  concavity_mean  perimeter_mean  \\\n",
       "0          25.380              0.14710         0.30010          122.80   \n",
       "1          24.990              0.07017         0.08690          132.90   \n",
       "2          23.570              0.12790         0.19740          130.00   \n",
       "3          14.910              0.10520         0.24140           77.58   \n",
       "4          22.540              0.10430         0.19800          135.10   \n",
       "..            ...                  ...             ...             ...   \n",
       "564        25.450              0.13890         0.24390          142.00   \n",
       "565        23.690              0.09791         0.14400          131.20   \n",
       "566        18.980              0.05302         0.09251          108.30   \n",
       "567        25.740              0.15200         0.35140          140.10   \n",
       "568         9.456              0.00000         0.00000           47.92   \n",
       "\n",
       "     area_mean  radius_mean  concavity_worst  \n",
       "0       1001.0        17.99           0.7119  \n",
       "1       1326.0        20.57           0.2416  \n",
       "2       1203.0        19.69           0.4504  \n",
       "3        386.1        11.42           0.6869  \n",
       "4       1297.0        20.29           0.4000  \n",
       "..         ...          ...              ...  \n",
       "564     1479.0        21.56           0.4107  \n",
       "565     1261.0        20.13           0.3215  \n",
       "566      858.1        16.60           0.3403  \n",
       "567     1265.0        20.60           0.9387  \n",
       "568      181.0         7.76           0.0000  \n",
       "\n",
       "[569 rows x 11 columns]"
      ]
     },
     "execution_count": 88,
     "metadata": {},
     "output_type": "execute_result"
    }
   ],
   "source": [
    "from sklearn.ensemble import RandomForestClassifier\n",
    "import numpy as np\n",
    "import pandas as pd\n",
    "from sklearn.model_selection import GridSearchCV, train_test_split\n",
    "from sklearn.metrics import classification_report\n",
    "from random import seed\n",
    "\n",
    "# import data Frome csv\n",
    "data_set = pd.read_csv('cleandata.csv',sep=\",\")\n",
    "selected_dataset = data_set.drop(['perimeter_mean','radius_mean','compactness_mean','concave points_mean','radius_se','perimeter_se','compactness_se','concave points_se',     \n",
    "              'radius_worst','perimeter_worst','compactness_worst','concave points_worst','concavity_worst'], axis = 1)\n",
    "new_selecteddata = data_set[['diagnosis','perimeter_worst','concave points_worst','area_worst','radius_worst','concave points_mean','concavity_mean','perimeter_mean','area_mean','radius_mean','concavity_worst']]\n",
    "new_selecteddata"
   ]
  },
  {
   "cell_type": "code",
   "execution_count": 92,
   "metadata": {
    "scrolled": true
   },
   "outputs": [
    {
     "name": "stdout",
     "output_type": "stream",
     "text": [
      "Random Forest:\n",
      "result： [1 1 1 1 1 1 1 1 1 1 1 1 1 1 1 1 1 1 1 0 0 0 1 1 1 1 1 1 1 1 1 1 1 1 1 1 1\n",
      " 0 0 1 0 0 1 1 0 1 0 1 0 0 0 0 0 1 1 0 1]\n",
      "score:  0.9298245614035088\n",
      "              precision    recall  f1-score   support\n",
      "\n",
      "           0       0.73      1.00      0.85        11\n",
      "           1       1.00      0.91      0.95        46\n",
      "\n",
      "    accuracy                           0.93        57\n",
      "   macro avg       0.87      0.96      0.90        57\n",
      "weighted avg       0.95      0.93      0.93        57\n",
      "\n",
      "[[11  0]\n",
      " [ 4 42]]\n"
     ]
    },
    {
     "data": {
      "image/png": "[encoded data removed]",
      "text/plain": [
       "<Figure size 288x288 with 2 Axes>"
      ]
     },
     "metadata": {
      "needs_background": "light"
     },
     "output_type": "display_data"
    },
    {
     "name": "stdout",
     "output_type": "stream",
     "text": [
      "Random Forest:\n",
      "result： [1 0 0 0 0 1 0 1 1 0 0 0 0 1 0 1 0 0 1 0 1 1 0 0 1 1 1 0 1 0 1 0 0 0 1 0 0\n",
      " 1 1 0 0 0 0 1 0 0 0 0 1 0 0 1 0 0 0 1 0]\n",
      "score:  0.9122807017543859\n",
      "              precision    recall  f1-score   support\n",
      "\n",
      "           0       0.92      0.94      0.93        35\n",
      "           1       0.90      0.86      0.88        22\n",
      "\n",
      "    accuracy                           0.91        57\n",
      "   macro avg       0.91      0.90      0.91        57\n",
      "weighted avg       0.91      0.91      0.91        57\n",
      "\n",
      "[[33  2]\n",
      " [ 3 19]]\n"
     ]
    },
    {
     "data": {
      "image/png": "[encoded data removed]",
      "text/plain": [
       "<Figure size 288x288 with 2 Axes>"
      ]
     },
     "metadata": {
      "needs_background": "light"
     },
     "output_type": "display_data"
    },
    {
     "name": "stdout",
     "output_type": "stream",
     "text": [
      "Random Forest:\n",
      "result： [0 0 0 1 1 1 0 1 1 0 0 0 0 1 1 1 0 1 1 0 1 0 0 0 1 0 0 1 0 0 0 0 1 0 1 0 0\n",
      " 0 0 0 0 0 1 1 0 0 0 1 1 0 1 0 0 1 1 0 0]\n",
      "score:  0.9122807017543859\n",
      "              precision    recall  f1-score   support\n",
      "\n",
      "           0       0.94      0.92      0.93        36\n",
      "           1       0.86      0.90      0.88        21\n",
      "\n",
      "    accuracy                           0.91        57\n",
      "   macro avg       0.90      0.91      0.91        57\n",
      "weighted avg       0.91      0.91      0.91        57\n",
      "\n",
      "[[33  3]\n",
      " [ 2 19]]\n"
     ]
    },
    {
     "data": {
      "image/png": "[encoded data removed]",
      "text/plain": [
       "<Figure size 288x288 with 2 Axes>"
      ]
     },
     "metadata": {
      "needs_background": "light"
     },
     "output_type": "display_data"
    },
    {
     "name": "stdout",
     "output_type": "stream",
     "text": [
      "Random Forest:\n",
      "result： [1 1 0 0 0 0 1 0 0 1 1 1 0 1 0 1 0 0 0 1 0 0 1 1 0 1 1 1 1 0 1 1 1 0 1 0 1\n",
      " 0 0 1 0 1 1 1 1 0 0 1 1 0 0 0 1 0 0 0 0]\n",
      "score:  1.0\n",
      "              precision    recall  f1-score   support\n",
      "\n",
      "           0       1.00      1.00      1.00        29\n",
      "           1       1.00      1.00      1.00        28\n",
      "\n",
      "    accuracy                           1.00        57\n",
      "   macro avg       1.00      1.00      1.00        57\n",
      "weighted avg       1.00      1.00      1.00        57\n",
      "\n",
      "[[29  0]\n",
      " [ 0 28]]\n"
     ]
    },
    {
     "data": {
      "image/png": "[encoded data removed]",
      "text/plain": [
       "<Figure size 288x288 with 2 Axes>"
      ]
     },
     "metadata": {
      "needs_background": "light"
     },
     "output_type": "display_data"
    },
    {
     "name": "stdout",
     "output_type": "stream",
     "text": [
      "Random Forest:\n",
      "result： [0 1 1 0 0 1 0 0 1 1 0 1 0 0 0 0 1 0 0 0 0 0 1 0 1 1 1 0 1 1 1 1 1 1 1 0 1\n",
      " 1 0 0 0 0 0 0 1 0 1 0 0 1 0 0 1 0 1 1 0]\n",
      "score:  0.9649122807017544\n",
      "              precision    recall  f1-score   support\n",
      "\n",
      "           0       0.94      1.00      0.97        29\n",
      "           1       1.00      0.93      0.96        28\n",
      "\n",
      "    accuracy                           0.96        57\n",
      "   macro avg       0.97      0.96      0.96        57\n",
      "weighted avg       0.97      0.96      0.96        57\n",
      "\n",
      "[[29  0]\n",
      " [ 2 26]]\n"
     ]
    },
    {
     "data": {
      "image/png": "[encoded data removed]",
      "text/plain": [
       "<Figure size 288x288 with 2 Axes>"
      ]
     },
     "metadata": {
      "needs_background": "light"
     },
     "output_type": "display_data"
    },
    {
     "name": "stdout",
     "output_type": "stream",
     "text": [
      "Random Forest:\n",
      "result： [0 0 0 0 0 0 0 0 0 0 0 0 0 0 0 1 0 1 0 0 0 0 0 0 0 0 0 0 0 0 0 0 1 0 0 0 1\n",
      " 0 1 0 0 0 0 1 1 1 0 0 0 0 1 0 1 0 1 0 0]\n",
      "score:  0.9824561403508771\n",
      "              precision    recall  f1-score   support\n",
      "\n",
      "           0       0.98      1.00      0.99        45\n",
      "           1       1.00      0.92      0.96        12\n",
      "\n",
      "    accuracy                           0.98        57\n",
      "   macro avg       0.99      0.96      0.97        57\n",
      "weighted avg       0.98      0.98      0.98        57\n",
      "\n",
      "[[45  0]\n",
      " [ 1 11]]\n"
     ]
    },
    {
     "data": {
      "image/png": "[encoded data removed]",
      "text/plain": [
       "<Figure size 288x288 with 2 Axes>"
      ]
     },
     "metadata": {
      "needs_background": "light"
     },
     "output_type": "display_data"
    },
    {
     "name": "stdout",
     "output_type": "stream",
     "text": [
      "Random Forest:\n",
      "result： [0 1 0 0 0 0 0 0 0 1 1 1 0 0 0 0 0 0 0 0 0 1 0 1 1 0 1 1 1 0 1 1 0 0 0 0 0\n",
      " 1 0 0 0 0 0 0 0 0 0 1 0 0 1 1 0 0 0 0 0]\n",
      "score:  0.9649122807017544\n",
      "              precision    recall  f1-score   support\n",
      "\n",
      "           0       0.98      0.98      0.98        41\n",
      "           1       0.94      0.94      0.94        16\n",
      "\n",
      "    accuracy                           0.96        57\n",
      "   macro avg       0.96      0.96      0.96        57\n",
      "weighted avg       0.96      0.96      0.96        57\n",
      "\n",
      "[[40  1]\n",
      " [ 1 15]]\n"
     ]
    },
    {
     "data": {
      "image/png": "[encoded data removed]",
      "text/plain": [
       "<Figure size 288x288 with 2 Axes>"
      ]
     },
     "metadata": {
      "needs_background": "light"
     },
     "output_type": "display_data"
    },
    {
     "name": "stdout",
     "output_type": "stream",
     "text": [
      "Random Forest:\n",
      "result： [0 1 0 0 0 0 0 1 0 1 0 0 0 0 0 0 0 0 1 0 0 0 0 0 0 0 0 0 0 0 0 1 0 1 1 0 1\n",
      " 0 0 0 0 0 1 0 0 1 0 1 0 0 1 0 1 0 0 0 0]\n",
      "score:  0.9649122807017544\n",
      "              precision    recall  f1-score   support\n",
      "\n",
      "           0       0.98      0.98      0.98        44\n",
      "           1       0.92      0.92      0.92        13\n",
      "\n",
      "    accuracy                           0.96        57\n",
      "   macro avg       0.95      0.95      0.95        57\n",
      "weighted avg       0.96      0.96      0.96        57\n",
      "\n",
      "[[43  1]\n",
      " [ 1 12]]\n"
     ]
    },
    {
     "data": {
      "image/png": "[encoded data removed]",
      "text/plain": [
       "<Figure size 288x288 with 2 Axes>"
      ]
     },
     "metadata": {
      "needs_background": "light"
     },
     "output_type": "display_data"
    },
    {
     "name": "stdout",
     "output_type": "stream",
     "text": [
      "Random Forest:\n",
      "result： [0 0 0 0 1 1 0 0 0 0 0 0 1 0 0 0 0 0 0 0 0 0 0 1 0 0 0 0 1 0 0 1 0 1 0 1 1\n",
      " 0 0 0 0 0 1 1 0 1 0 1 0 0 0 0 0 1 0 0 1]\n",
      "score:  0.9649122807017544\n",
      "              precision    recall  f1-score   support\n",
      "\n",
      "           0       1.00      0.95      0.98        44\n",
      "           1       0.87      1.00      0.93        13\n",
      "\n",
      "    accuracy                           0.96        57\n",
      "   macro avg       0.93      0.98      0.95        57\n",
      "weighted avg       0.97      0.96      0.97        57\n",
      "\n",
      "[[42  2]\n",
      " [ 0 13]]\n"
     ]
    },
    {
     "data": {
      "image/png": "[encoded data removed]",
      "text/plain": [
       "<Figure size 288x288 with 2 Axes>"
      ]
     },
     "metadata": {
      "needs_background": "light"
     },
     "output_type": "display_data"
    },
    {
     "name": "stdout",
     "output_type": "stream",
     "text": [
      "Random Forest:\n",
      "result： [0 1 0 1 1 0 0 0 1 0 0 0 0 0 0 0 0 0 0 0 1 0 1 0 0 0 0 0 0 0 0 0 0 0 0 0 0\n",
      " 0 0 0 0 0 0 0 0 0 0 0 0 1 1 1 1 1 1 0]\n",
      "score:  0.9821428571428571\n",
      "              precision    recall  f1-score   support\n",
      "\n",
      "           0       0.98      1.00      0.99        43\n",
      "           1       1.00      0.92      0.96        13\n",
      "\n",
      "    accuracy                           0.98        56\n",
      "   macro avg       0.99      0.96      0.97        56\n",
      "weighted avg       0.98      0.98      0.98        56\n",
      "\n",
      "[[43  0]\n",
      " [ 1 12]]\n"
     ]
    },
    {
     "data": {
      "image/png": "[encoded data removed]",
      "text/plain": [
       "<Figure size 288x288 with 2 Axes>"
      ]
     },
     "metadata": {
      "needs_background": "light"
     },
     "output_type": "display_data"
    },
    {
     "name": "stdout",
     "output_type": "stream",
     "text": [
      "score_list: [0.9298245614035088, 0.9122807017543859, 0.9122807017543859, 1.0, 0.9649122807017544, 0.9824561403508771, 0.9649122807017544, 0.9649122807017544, 0.9649122807017544, 0.9821428571428571]\n",
      "score: 0.9578634085213034\n",
      "auc_list: [0.9565217391304348, 0.9032467532467532, 0.9107142857142856, 1.0, 0.9642857142857143, 0.9583333333333333, 0.9565548780487805, 0.9501748251748252, 0.9772727272727273, 0.9615384615384616]\n",
      "auc: 0.9538642717745315\n"
     ]
    }
   ],
   "source": [
    "from sklearn.model_selection import KFold\n",
    "from sklearn.metrics import confusion_matrix\n",
    "from sklearn.metrics import roc_auc_score\n",
    "import pylab as pl\n",
    "\n",
    "# define function to fit model and do prediction\n",
    "def fitting(classifier, x_train, x_test, y_train, y_test, score_list, auc_list):\n",
    "    # fit model\n",
    "    classifier.fit(x_train, y_train.astype('int'))\n",
    "    # prediction\n",
    "    result = classifier.predict(x_test)\n",
    "    print('result：', result) \n",
    "    score = classifier.score(x_test, y_test.astype('int'), sample_weight=None)\n",
    "    auc = roc_auc_score(y_test, result)\n",
    "    print('score: ', score)\n",
    "    print(classification_report(y_test.tolist(), result.tolist()))\n",
    "    print(confusion_matrix(y_test, result))\n",
    "    c_m = confusion_matrix(y_test, result)\n",
    "    pl.matshow(c_m)\n",
    "    pl.title('confusion_matrix')\n",
    "    pl.colorbar()\n",
    "    score_list.append(score)\n",
    "    auc_list.append(auc)\n",
    "    pl.show()\n",
    "    \n",
    "# Random Forest\n",
    "RF_clf = RandomForestClassifier(n_estimators = 200, random_state = 0)\n",
    "\n",
    "# split data into x and y\n",
    "score_list1 = []\n",
    "auc_list1 = []\n",
    "data_y = data_set.iloc[:,0]\n",
    "data_x = data_set.iloc[:,1:31]\n",
    "# tenfold cross-validation\n",
    "kf = KFold(n_splits = 10, random_state = 0)\n",
    "kf.get_n_splits(data_x)\n",
    "for train_index, test_index in kf.split(data_x):\n",
    "    #split training dataset and testin dataset\n",
    "    x_train, x_test = data_x.iloc[train_index], data_x.iloc[test_index]\n",
    "    y_train, y_test = data_y[train_index], data_y[test_index]\n",
    "    # Prediction with RandomForset Model\n",
    "    print('Random Forest:')\n",
    "    fitting(RF_clf, x_train, x_test, y_train, y_test, score_list1, auc_list1)\n",
    "print(\"score_list:\", score_list1)\n",
    "print(\"score:\", np.mean(score_list1))\n",
    "print(\"auc_list:\", auc_list1)\n",
    "print(\"auc:\", np.mean(auc_list1))"
   ]
  },
  {
   "cell_type": "code",
   "execution_count": 93,
   "metadata": {
    "scrolled": true
   },
   "outputs": [
    {
     "name": "stdout",
     "output_type": "stream",
     "text": [
      "Random Forest:\n",
      "result： [1 1 1 1 1 1 1 1 1 1 1 1 1 1 1 1 1 1 1 0 0 0 1 1 1 1 1 1 1 1 1 1 1 1 1 1 1\n",
      " 0 0 0 0 0 1 1 0 1 0 1 0 0 0 0 0 1 1 0 1]\n",
      "score:  0.9122807017543859\n",
      "              precision    recall  f1-score   support\n",
      "\n",
      "           0       0.69      1.00      0.81        11\n",
      "           1       1.00      0.89      0.94        46\n",
      "\n",
      "    accuracy                           0.91        57\n",
      "   macro avg       0.84      0.95      0.88        57\n",
      "weighted avg       0.94      0.91      0.92        57\n",
      "\n",
      "[[11  0]\n",
      " [ 5 41]]\n"
     ]
    },
    {
     "data": {
      "image/png": "[encoded data removed]",
      "text/plain": [
       "<Figure size 288x288 with 2 Axes>"
      ]
     },
     "metadata": {
      "needs_background": "light"
     },
     "output_type": "display_data"
    },
    {
     "name": "stdout",
     "output_type": "stream",
     "text": [
      "Random Forest:\n",
      "result： [1 0 0 0 0 1 0 1 1 0 0 0 0 1 0 1 0 0 1 0 1 1 0 0 0 1 1 0 1 1 1 0 0 0 1 0 0\n",
      " 1 1 0 0 0 0 1 0 0 0 0 1 0 0 1 0 0 0 0 0]\n",
      "score:  0.9649122807017544\n",
      "              precision    recall  f1-score   support\n",
      "\n",
      "           0       0.95      1.00      0.97        35\n",
      "           1       1.00      0.91      0.95        22\n",
      "\n",
      "    accuracy                           0.96        57\n",
      "   macro avg       0.97      0.95      0.96        57\n",
      "weighted avg       0.97      0.96      0.96        57\n",
      "\n",
      "[[35  0]\n",
      " [ 2 20]]\n"
     ]
    },
    {
     "data": {
      "image/png": "[encoded data removed]",
      "text/plain": [
       "<Figure size 288x288 with 2 Axes>"
      ]
     },
     "metadata": {
      "needs_background": "light"
     },
     "output_type": "display_data"
    },
    {
     "name": "stdout",
     "output_type": "stream",
     "text": [
      "Random Forest:\n",
      "result： [0 0 0 1 1 1 0 1 1 0 0 0 0 1 0 1 0 1 1 0 1 0 0 0 1 0 0 1 0 0 0 0 1 0 0 0 0\n",
      " 0 0 0 0 0 1 1 0 0 0 1 1 0 1 0 0 1 1 0 0]\n",
      "score:  0.9473684210526315\n",
      "              precision    recall  f1-score   support\n",
      "\n",
      "           0       0.95      0.97      0.96        36\n",
      "           1       0.95      0.90      0.93        21\n",
      "\n",
      "    accuracy                           0.95        57\n",
      "   macro avg       0.95      0.94      0.94        57\n",
      "weighted avg       0.95      0.95      0.95        57\n",
      "\n",
      "[[35  1]\n",
      " [ 2 19]]\n"
     ]
    },
    {
     "data": {
      "image/png": "[encoded data removed]",
      "text/plain": [
       "<Figure size 288x288 with 2 Axes>"
      ]
     },
     "metadata": {
      "needs_background": "light"
     },
     "output_type": "display_data"
    },
    {
     "name": "stdout",
     "output_type": "stream",
     "text": [
      "Random Forest:\n",
      "result： [1 1 0 0 0 0 1 0 0 1 1 1 0 1 0 1 0 0 0 1 0 0 1 1 0 1 1 1 1 0 1 1 1 0 1 0 1\n",
      " 0 0 1 0 1 1 1 1 0 0 1 1 0 0 0 1 0 0 0 0]\n",
      "score:  1.0\n",
      "              precision    recall  f1-score   support\n",
      "\n",
      "           0       1.00      1.00      1.00        29\n",
      "           1       1.00      1.00      1.00        28\n",
      "\n",
      "    accuracy                           1.00        57\n",
      "   macro avg       1.00      1.00      1.00        57\n",
      "weighted avg       1.00      1.00      1.00        57\n",
      "\n",
      "[[29  0]\n",
      " [ 0 28]]\n"
     ]
    },
    {
     "data": {
      "image/png": "[encoded data removed]",
      "text/plain": [
       "<Figure size 288x288 with 2 Axes>"
      ]
     },
     "metadata": {
      "needs_background": "light"
     },
     "output_type": "display_data"
    },
    {
     "name": "stdout",
     "output_type": "stream",
     "text": [
      "Random Forest:\n",
      "result： [0 1 1 0 0 1 0 0 1 1 0 1 0 0 0 0 1 0 0 0 0 0 1 0 1 1 1 0 1 1 1 1 1 1 1 0 1\n",
      " 1 0 0 0 0 0 0 1 0 1 0 0 1 0 0 1 0 1 1 0]\n",
      "score:  0.9649122807017544\n",
      "              precision    recall  f1-score   support\n",
      "\n",
      "           0       0.94      1.00      0.97        29\n",
      "           1       1.00      0.93      0.96        28\n",
      "\n",
      "    accuracy                           0.96        57\n",
      "   macro avg       0.97      0.96      0.96        57\n",
      "weighted avg       0.97      0.96      0.96        57\n",
      "\n",
      "[[29  0]\n",
      " [ 2 26]]\n"
     ]
    },
    {
     "data": {
      "image/png": "[encoded data removed]",
      "text/plain": [
       "<Figure size 288x288 with 2 Axes>"
      ]
     },
     "metadata": {
      "needs_background": "light"
     },
     "output_type": "display_data"
    },
    {
     "name": "stdout",
     "output_type": "stream",
     "text": [
      "Random Forest:\n",
      "result： [0 0 0 0 0 0 0 0 0 0 0 0 0 0 0 1 0 1 0 0 0 0 0 0 0 0 0 0 0 0 0 0 1 0 0 0 1\n",
      " 0 1 0 0 0 0 1 1 1 0 0 0 0 1 0 1 0 1 0 0]\n",
      "score:  0.9824561403508771\n",
      "              precision    recall  f1-score   support\n",
      "\n",
      "           0       0.98      1.00      0.99        45\n",
      "           1       1.00      0.92      0.96        12\n",
      "\n",
      "    accuracy                           0.98        57\n",
      "   macro avg       0.99      0.96      0.97        57\n",
      "weighted avg       0.98      0.98      0.98        57\n",
      "\n",
      "[[45  0]\n",
      " [ 1 11]]\n"
     ]
    },
    {
     "data": {
      "image/png": "[encoded data removed]",
      "text/plain": [
       "<Figure size 288x288 with 2 Axes>"
      ]
     },
     "metadata": {
      "needs_background": "light"
     },
     "output_type": "display_data"
    },
    {
     "name": "stdout",
     "output_type": "stream",
     "text": [
      "Random Forest:\n",
      "result： [0 1 0 0 0 0 0 0 0 1 1 1 0 0 0 0 0 0 0 0 0 1 0 1 1 0 1 1 1 0 1 1 0 0 0 0 0\n",
      " 1 0 0 0 0 0 0 0 0 0 1 0 0 1 1 0 0 0 0 0]\n",
      "score:  0.9649122807017544\n",
      "              precision    recall  f1-score   support\n",
      "\n",
      "           0       0.98      0.98      0.98        41\n",
      "           1       0.94      0.94      0.94        16\n",
      "\n",
      "    accuracy                           0.96        57\n",
      "   macro avg       0.96      0.96      0.96        57\n",
      "weighted avg       0.96      0.96      0.96        57\n",
      "\n",
      "[[40  1]\n",
      " [ 1 15]]\n"
     ]
    },
    {
     "data": {
      "image/png": "[encoded data removed]",
      "text/plain": [
       "<Figure size 288x288 with 2 Axes>"
      ]
     },
     "metadata": {
      "needs_background": "light"
     },
     "output_type": "display_data"
    },
    {
     "name": "stdout",
     "output_type": "stream",
     "text": [
      "Random Forest:\n",
      "result： [0 1 0 0 0 0 0 0 0 1 0 0 0 0 0 1 0 0 1 0 0 0 0 0 0 0 0 0 0 0 0 1 0 1 1 0 1\n",
      " 0 0 0 0 0 1 0 0 1 0 1 0 0 1 0 1 0 0 0 0]\n",
      "score:  1.0\n",
      "              precision    recall  f1-score   support\n",
      "\n",
      "           0       1.00      1.00      1.00        44\n",
      "           1       1.00      1.00      1.00        13\n",
      "\n",
      "    accuracy                           1.00        57\n",
      "   macro avg       1.00      1.00      1.00        57\n",
      "weighted avg       1.00      1.00      1.00        57\n",
      "\n",
      "[[44  0]\n",
      " [ 0 13]]\n"
     ]
    },
    {
     "data": {
      "image/png": "[encoded data removed]",
      "text/plain": [
       "<Figure size 288x288 with 2 Axes>"
      ]
     },
     "metadata": {
      "needs_background": "light"
     },
     "output_type": "display_data"
    },
    {
     "name": "stdout",
     "output_type": "stream",
     "text": [
      "Random Forest:\n",
      "result： [0 0 0 0 1 1 0 0 0 0 0 0 1 0 0 0 0 0 0 0 0 0 0 1 0 0 0 0 1 0 0 1 0 1 0 1 1\n",
      " 0 0 0 0 0 1 1 0 1 0 1 0 0 0 0 0 1 0 0 1]\n",
      "score:  0.9649122807017544\n",
      "              precision    recall  f1-score   support\n",
      "\n",
      "           0       1.00      0.95      0.98        44\n",
      "           1       0.87      1.00      0.93        13\n",
      "\n",
      "    accuracy                           0.96        57\n",
      "   macro avg       0.93      0.98      0.95        57\n",
      "weighted avg       0.97      0.96      0.97        57\n",
      "\n",
      "[[42  2]\n",
      " [ 0 13]]\n"
     ]
    },
    {
     "data": {
      "image/png": "[encoded data removed]",
      "text/plain": [
       "<Figure size 288x288 with 2 Axes>"
      ]
     },
     "metadata": {
      "needs_background": "light"
     },
     "output_type": "display_data"
    },
    {
     "name": "stdout",
     "output_type": "stream",
     "text": [
      "Random Forest:\n",
      "result： [0 1 0 1 1 0 0 0 1 0 0 0 0 0 0 0 0 0 0 0 1 0 1 1 0 0 0 0 1 0 0 0 0 0 0 0 0\n",
      " 0 0 0 0 0 0 0 0 0 0 0 0 1 1 1 1 1 1 0]\n",
      "score:  0.9821428571428571\n",
      "              precision    recall  f1-score   support\n",
      "\n",
      "           0       1.00      0.98      0.99        43\n",
      "           1       0.93      1.00      0.96        13\n",
      "\n",
      "    accuracy                           0.98        56\n",
      "   macro avg       0.96      0.99      0.98        56\n",
      "weighted avg       0.98      0.98      0.98        56\n",
      "\n",
      "[[42  1]\n",
      " [ 0 13]]\n"
     ]
    },
    {
     "data": {
      "image/png": "[encoded data removed]",
      "text/plain": [
       "<Figure size 288x288 with 2 Axes>"
      ]
     },
     "metadata": {
      "needs_background": "light"
     },
     "output_type": "display_data"
    },
    {
     "name": "stdout",
     "output_type": "stream",
     "text": [
      "score_list: [0.9122807017543859, 0.9649122807017544, 0.9473684210526315, 1.0, 0.9649122807017544, 0.9824561403508771, 0.9649122807017544, 1.0, 0.9649122807017544, 0.9821428571428571]\n",
      "score: 0.9683897243107771\n",
      "auc_list: [0.9456521739130435, 0.9545454545454546, 0.9384920634920634, 1.0, 0.9642857142857143, 0.9583333333333333, 0.9565548780487805, 1.0, 0.9772727272727273, 0.9883720930232558]\n",
      "auc: 0.9683508437914373\n"
     ]
    }
   ],
   "source": [
    "# randomforest with data aftering dropping variables\n",
    "score_list2 = []\n",
    "auc_list2 = []\n",
    "\n",
    "# split data into x and y\n",
    "selecteddata_y = selected_dataset.iloc[:,0]\n",
    "selecteddata_x = selected_dataset.iloc[:,1:18]\n",
    "# generate training dataset and testing dataset\n",
    "\n",
    "kf.get_n_splits(selecteddata_x)\n",
    "for train_index, test_index in kf.split(selecteddata_x):\n",
    "    #print(train_index,test_index)\n",
    "    selectedx_train, selectedx_test = selecteddata_x.iloc[train_index], selecteddata_x.iloc[test_index]\n",
    "    selectedy_train, selectedy_test = selecteddata_y[train_index], selecteddata_y[test_index]\n",
    "    # Prediction with RandomForset Model\n",
    "    print('Random Forest:')\n",
    "    fitting(RF_clf, selectedx_train, selectedx_test, selectedy_train, selectedy_test, score_list2, auc_list2)\n",
    "print(\"score_list:\", score_list2)\n",
    "print(\"score:\", np.mean(score_list2))\n",
    "print(\"auc_list:\", auc_list2)\n",
    "print(\"auc:\", np.mean(auc_list2))\n"
   ]
  },
  {
   "cell_type": "code",
   "execution_count": 94,
   "metadata": {
    "scrolled": true
   },
   "outputs": [
    {
     "name": "stdout",
     "output_type": "stream",
     "text": [
      "SVM:\n",
      "result： [1 1 1 1 1 1 1 1 1 1 1 1 1 0 1 1 1 1 1 0 0 0 1 1 1 1 1 1 1 1 1 1 1 1 1 1 1\n",
      " 0 0 0 0 0 1 1 1 1 0 1 0 0 0 0 0 1 1 0 1]\n",
      "score:  0.9122807017543859\n",
      "              precision    recall  f1-score   support\n",
      "\n",
      "           0       0.69      1.00      0.81        11\n",
      "           1       1.00      0.89      0.94        46\n",
      "\n",
      "    accuracy                           0.91        57\n",
      "   macro avg       0.84      0.95      0.88        57\n",
      "weighted avg       0.94      0.91      0.92        57\n",
      "\n",
      "[[11  0]\n",
      " [ 5 41]]\n"
     ]
    },
    {
     "data": {
      "image/png": "[encoded data removed]",
      "text/plain": [
       "<Figure size 288x288 with 2 Axes>"
      ]
     },
     "metadata": {
      "needs_background": "light"
     },
     "output_type": "display_data"
    },
    {
     "name": "stdout",
     "output_type": "stream",
     "text": [
      "SVM:\n",
      "result： [1 0 0 0 0 1 0 1 1 0 0 0 0 1 0 1 0 0 1 0 1 1 0 0 0 1 1 0 1 0 1 0 0 0 0 0 0\n",
      " 1 1 0 0 0 0 1 0 0 0 0 1 0 0 1 0 0 0 0 0]\n",
      "score:  0.9298245614035088\n",
      "              precision    recall  f1-score   support\n",
      "\n",
      "           0       0.90      1.00      0.95        35\n",
      "           1       1.00      0.82      0.90        22\n",
      "\n",
      "    accuracy                           0.93        57\n",
      "   macro avg       0.95      0.91      0.92        57\n",
      "weighted avg       0.94      0.93      0.93        57\n",
      "\n",
      "[[35  0]\n",
      " [ 4 18]]\n"
     ]
    },
    {
     "data": {
      "image/png": "[encoded data removed]",
      "text/plain": [
       "<Figure size 288x288 with 2 Axes>"
      ]
     },
     "metadata": {
      "needs_background": "light"
     },
     "output_type": "display_data"
    },
    {
     "name": "stdout",
     "output_type": "stream",
     "text": [
      "SVM:\n",
      "result： [0 0 0 1 1 1 0 1 1 0 0 0 1 1 0 1 0 1 1 0 1 0 0 0 1 0 0 1 0 0 0 0 0 0 0 0 0\n",
      " 0 0 0 0 0 1 1 0 0 0 1 1 0 1 0 0 1 1 0 0]\n",
      "score:  0.9473684210526315\n",
      "              precision    recall  f1-score   support\n",
      "\n",
      "           0       0.95      0.97      0.96        36\n",
      "           1       0.95      0.90      0.93        21\n",
      "\n",
      "    accuracy                           0.95        57\n",
      "   macro avg       0.95      0.94      0.94        57\n",
      "weighted avg       0.95      0.95      0.95        57\n",
      "\n",
      "[[35  1]\n",
      " [ 2 19]]\n"
     ]
    },
    {
     "data": {
      "image/png": "[encoded data removed]",
      "text/plain": [
       "<Figure size 288x288 with 2 Axes>"
      ]
     },
     "metadata": {
      "needs_background": "light"
     },
     "output_type": "display_data"
    },
    {
     "name": "stdout",
     "output_type": "stream",
     "text": [
      "SVM:\n",
      "result： [1 1 0 0 0 0 1 0 0 1 1 1 0 1 0 1 0 0 0 1 0 0 1 0 0 1 1 1 1 0 1 1 1 0 1 0 1\n",
      " 0 0 1 0 1 1 1 0 0 0 1 1 0 0 0 1 0 0 0 0]\n",
      "score:  0.9649122807017544\n",
      "              precision    recall  f1-score   support\n",
      "\n",
      "           0       0.94      1.00      0.97        29\n",
      "           1       1.00      0.93      0.96        28\n",
      "\n",
      "    accuracy                           0.96        57\n",
      "   macro avg       0.97      0.96      0.96        57\n",
      "weighted avg       0.97      0.96      0.96        57\n",
      "\n",
      "[[29  0]\n",
      " [ 2 26]]\n"
     ]
    },
    {
     "data": {
      "image/png": "[encoded data removed]",
      "text/plain": [
       "<Figure size 288x288 with 2 Axes>"
      ]
     },
     "metadata": {
      "needs_background": "light"
     },
     "output_type": "display_data"
    },
    {
     "name": "stdout",
     "output_type": "stream",
     "text": [
      "SVM:\n",
      "result： [0 1 1 0 0 1 0 0 1 1 1 1 0 0 0 0 1 0 0 0 0 0 1 0 1 1 1 1 1 1 1 1 1 1 1 1 1\n",
      " 1 0 0 0 0 0 0 1 0 1 0 0 0 0 0 1 0 1 1 0]\n",
      "score:  0.9649122807017544\n",
      "              precision    recall  f1-score   support\n",
      "\n",
      "           0       0.97      0.97      0.97        29\n",
      "           1       0.96      0.96      0.96        28\n",
      "\n",
      "    accuracy                           0.96        57\n",
      "   macro avg       0.96      0.96      0.96        57\n",
      "weighted avg       0.96      0.96      0.96        57\n",
      "\n",
      "[[28  1]\n",
      " [ 1 27]]\n"
     ]
    },
    {
     "data": {
      "image/png": "[encoded data removed]",
      "text/plain": [
       "<Figure size 288x288 with 2 Axes>"
      ]
     },
     "metadata": {
      "needs_background": "light"
     },
     "output_type": "display_data"
    },
    {
     "name": "stdout",
     "output_type": "stream",
     "text": [
      "SVM:\n",
      "result： [0 0 0 0 0 1 0 0 0 0 0 0 0 0 0 1 0 1 0 0 0 0 0 0 0 0 0 0 0 0 0 0 1 0 0 0 1\n",
      " 0 1 0 0 0 0 1 1 1 0 0 0 0 1 0 1 0 1 0 0]\n",
      "score:  0.9649122807017544\n",
      "              precision    recall  f1-score   support\n",
      "\n",
      "           0       0.98      0.98      0.98        45\n",
      "           1       0.92      0.92      0.92        12\n",
      "\n",
      "    accuracy                           0.96        57\n",
      "   macro avg       0.95      0.95      0.95        57\n",
      "weighted avg       0.96      0.96      0.96        57\n",
      "\n",
      "[[44  1]\n",
      " [ 1 11]]\n"
     ]
    },
    {
     "data": {
      "image/png": "[encoded data removed]",
      "text/plain": [
       "<Figure size 288x288 with 2 Axes>"
      ]
     },
     "metadata": {
      "needs_background": "light"
     },
     "output_type": "display_data"
    },
    {
     "name": "stdout",
     "output_type": "stream",
     "text": [
      "SVM:\n",
      "result： [0 1 0 0 0 0 0 0 0 1 1 1 0 0 0 0 0 0 0 0 0 0 0 1 1 0 1 1 1 0 1 1 0 0 0 0 0\n",
      " 1 0 0 0 0 0 0 0 0 0 1 0 0 1 1 0 0 0 0 0]\n",
      "score:  0.9824561403508771\n",
      "              precision    recall  f1-score   support\n",
      "\n",
      "           0       0.98      1.00      0.99        41\n",
      "           1       1.00      0.94      0.97        16\n",
      "\n",
      "    accuracy                           0.98        57\n",
      "   macro avg       0.99      0.97      0.98        57\n",
      "weighted avg       0.98      0.98      0.98        57\n",
      "\n",
      "[[41  0]\n",
      " [ 1 15]]\n"
     ]
    },
    {
     "data": {
      "image/png": "[encoded data removed]",
      "text/plain": [
       "<Figure size 288x288 with 2 Axes>"
      ]
     },
     "metadata": {
      "needs_background": "light"
     },
     "output_type": "display_data"
    },
    {
     "name": "stdout",
     "output_type": "stream",
     "text": [
      "SVM:\n",
      "result： [0 1 0 0 0 0 0 0 0 1 0 1 0 0 1 1 0 0 1 0 0 0 0 0 0 0 0 0 0 0 0 1 0 1 1 0 1\n",
      " 0 0 0 0 0 1 0 0 1 0 1 0 0 1 0 1 0 0 0 1]\n",
      "score:  0.9473684210526315\n",
      "              precision    recall  f1-score   support\n",
      "\n",
      "           0       1.00      0.93      0.96        44\n",
      "           1       0.81      1.00      0.90        13\n",
      "\n",
      "    accuracy                           0.95        57\n",
      "   macro avg       0.91      0.97      0.93        57\n",
      "weighted avg       0.96      0.95      0.95        57\n",
      "\n",
      "[[41  3]\n",
      " [ 0 13]]\n"
     ]
    },
    {
     "data": {
      "image/png": "[encoded data removed]",
      "text/plain": [
       "<Figure size 288x288 with 2 Axes>"
      ]
     },
     "metadata": {
      "needs_background": "light"
     },
     "output_type": "display_data"
    },
    {
     "name": "stdout",
     "output_type": "stream",
     "text": [
      "SVM:\n",
      "result： [0 0 0 0 1 1 0 0 0 1 0 0 1 0 0 0 0 0 0 0 1 0 0 1 0 0 0 0 0 0 0 1 0 1 0 1 1\n",
      " 0 0 0 0 0 1 1 0 1 0 1 0 0 0 0 0 1 0 0 1]\n",
      "score:  0.9473684210526315\n",
      "              precision    recall  f1-score   support\n",
      "\n",
      "           0       1.00      0.93      0.96        44\n",
      "           1       0.81      1.00      0.90        13\n",
      "\n",
      "    accuracy                           0.95        57\n",
      "   macro avg       0.91      0.97      0.93        57\n",
      "weighted avg       0.96      0.95      0.95        57\n",
      "\n",
      "[[41  3]\n",
      " [ 0 13]]\n"
     ]
    },
    {
     "data": {
      "image/png": "[encoded data removed]",
      "text/plain": [
       "<Figure size 288x288 with 2 Axes>"
      ]
     },
     "metadata": {
      "needs_background": "light"
     },
     "output_type": "display_data"
    },
    {
     "name": "stdout",
     "output_type": "stream",
     "text": [
      "SVM:\n",
      "result： [0 1 0 1 1 0 0 0 1 0 0 0 0 0 0 0 0 0 0 0 1 0 1 0 0 0 0 0 1 0 0 0 0 0 0 0 0\n",
      " 0 0 0 0 0 0 0 0 0 0 0 0 1 1 1 1 1 1 0]\n",
      "score:  0.9642857142857143\n",
      "              precision    recall  f1-score   support\n",
      "\n",
      "           0       0.98      0.98      0.98        43\n",
      "           1       0.92      0.92      0.92        13\n",
      "\n",
      "    accuracy                           0.96        56\n",
      "   macro avg       0.95      0.95      0.95        56\n",
      "weighted avg       0.96      0.96      0.96        56\n",
      "\n",
      "[[42  1]\n",
      " [ 1 12]]\n"
     ]
    },
    {
     "data": {
      "image/png": "[encoded data removed]",
      "text/plain": [
       "<Figure size 288x288 with 2 Axes>"
      ]
     },
     "metadata": {
      "needs_background": "light"
     },
     "output_type": "display_data"
    },
    {
     "name": "stdout",
     "output_type": "stream",
     "text": [
      "score_list: [0.9122807017543859, 0.9298245614035088, 0.9473684210526315, 0.9649122807017544, 0.9649122807017544, 0.9649122807017544, 0.9824561403508771, 0.9473684210526315, 0.9473684210526315, 0.9642857142857143]\n",
      "score: 0.9525689223057643\n",
      "auc_list: [0.9456521739130435, 0.9090909090909092, 0.9384920634920634, 0.9642857142857143, 0.9649014778325125, 0.9472222222222221, 0.96875, 0.9659090909090909, 0.9659090909090909, 0.9499105545617172]\n",
      "auc: 0.9520123297216363\n"
     ]
    }
   ],
   "source": [
    "# SVM original\n",
    "from sklearn.svm import SVC, LinearSVC\n",
    "score_list3 = []\n",
    "auc_list3 = []\n",
    "\n",
    "#SVM\n",
    "svc_model=SVC(kernel=\"linear\")\n",
    "\n",
    "for train_index, test_index in kf.split(data_x):\n",
    "    #print(train_index,test_index)\n",
    "    x_train, x_test = data_x.iloc[train_index], data_x.iloc[test_index]\n",
    "    y_train, y_test = data_y[train_index], data_y[test_index]\n",
    "    # Prediction with RandomForset Model\n",
    "    print('SVM:')\n",
    "    fitting(svc_model, x_train, x_test, y_train, y_test, score_list3, auc_list3)\n",
    "print(\"score_list:\", score_list3)\n",
    "print(\"score:\", np.mean(score_list3))\n",
    "print(\"auc_list:\", auc_list3)\n",
    "print(\"auc:\", np.mean(auc_list3))"
   ]
  },
  {
   "cell_type": "code",
   "execution_count": 99,
   "metadata": {
    "scrolled": false
   },
   "outputs": [
    {
     "name": "stdout",
     "output_type": "stream",
     "text": [
      "SVM:\n",
      "result： [1 1 1 0 1 0 1 1 1 1 1 1 1 0 0 1 1 1 1 0 0 0 1 1 1 1 1 1 1 1 1 1 1 1 1 1 1\n",
      " 0 0 0 0 0 1 1 0 1 0 1 0 0 0 0 0 1 1 0 1]\n",
      "score:  0.8421052631578947\n",
      "              precision    recall  f1-score   support\n",
      "\n",
      "           0       0.55      1.00      0.71        11\n",
      "           1       1.00      0.80      0.89        46\n",
      "\n",
      "    accuracy                           0.84        57\n",
      "   macro avg       0.78      0.90      0.80        57\n",
      "weighted avg       0.91      0.84      0.86        57\n",
      "\n",
      "[[11  0]\n",
      " [ 9 37]]\n"
     ]
    },
    {
     "data": {
      "image/png": "[encoded data removed]",
      "text/plain": [
       "<Figure size 288x288 with 2 Axes>"
      ]
     },
     "metadata": {
      "needs_background": "light"
     },
     "output_type": "display_data"
    },
    {
     "name": "stdout",
     "output_type": "stream",
     "text": [
      "SVM:\n",
      "result： [1 0 0 0 0 1 0 1 1 0 0 0 0 1 0 1 0 0 1 0 1 1 0 0 0 1 1 0 1 0 1 0 0 0 0 0 0\n",
      " 1 1 0 0 0 0 1 0 0 0 0 1 0 0 1 0 0 0 0 0]\n",
      "score:  0.9298245614035088\n",
      "              precision    recall  f1-score   support\n",
      "\n",
      "           0       0.90      1.00      0.95        35\n",
      "           1       1.00      0.82      0.90        22\n",
      "\n",
      "    accuracy                           0.93        57\n",
      "   macro avg       0.95      0.91      0.92        57\n",
      "weighted avg       0.94      0.93      0.93        57\n",
      "\n",
      "[[35  0]\n",
      " [ 4 18]]\n"
     ]
    },
    {
     "data": {
      "image/png": "[encoded data removed]",
      "text/plain": [
       "<Figure size 288x288 with 2 Axes>"
      ]
     },
     "metadata": {
      "needs_background": "light"
     },
     "output_type": "display_data"
    },
    {
     "name": "stdout",
     "output_type": "stream",
     "text": [
      "SVM:\n",
      "result： [0 0 0 1 1 1 0 1 1 0 0 0 1 1 0 1 0 1 1 0 1 0 0 0 1 0 0 1 0 0 0 0 0 0 0 0 0\n",
      " 0 0 0 0 0 1 1 0 0 0 1 1 0 1 0 0 1 1 0 0]\n",
      "score:  0.9473684210526315\n",
      "              precision    recall  f1-score   support\n",
      "\n",
      "           0       0.95      0.97      0.96        36\n",
      "           1       0.95      0.90      0.93        21\n",
      "\n",
      "    accuracy                           0.95        57\n",
      "   macro avg       0.95      0.94      0.94        57\n",
      "weighted avg       0.95      0.95      0.95        57\n",
      "\n",
      "[[35  1]\n",
      " [ 2 19]]\n"
     ]
    },
    {
     "data": {
      "image/png": "[encoded data removed]",
      "text/plain": [
       "<Figure size 288x288 with 2 Axes>"
      ]
     },
     "metadata": {
      "needs_background": "light"
     },
     "output_type": "display_data"
    },
    {
     "name": "stdout",
     "output_type": "stream",
     "text": [
      "SVM:\n",
      "result： [1 1 0 0 0 0 1 0 0 1 1 1 0 1 0 1 0 0 0 1 0 0 1 0 0 1 1 1 1 0 1 1 1 0 1 0 1\n",
      " 0 0 1 0 1 1 1 0 0 0 1 1 0 0 0 1 0 0 0 0]\n",
      "score:  0.9649122807017544\n",
      "              precision    recall  f1-score   support\n",
      "\n",
      "           0       0.94      1.00      0.97        29\n",
      "           1       1.00      0.93      0.96        28\n",
      "\n",
      "    accuracy                           0.96        57\n",
      "   macro avg       0.97      0.96      0.96        57\n",
      "weighted avg       0.97      0.96      0.96        57\n",
      "\n",
      "[[29  0]\n",
      " [ 2 26]]\n"
     ]
    },
    {
     "data": {
      "image/png": "[encoded data removed]",
      "text/plain": [
       "<Figure size 288x288 with 2 Axes>"
      ]
     },
     "metadata": {
      "needs_background": "light"
     },
     "output_type": "display_data"
    },
    {
     "name": "stdout",
     "output_type": "stream",
     "text": [
      "SVM:\n",
      "result： [0 1 1 0 0 1 0 0 1 1 1 1 0 0 0 0 1 0 0 0 0 0 1 0 1 1 1 0 1 1 1 1 1 1 1 1 1\n",
      " 1 0 0 0 0 0 0 1 0 1 0 0 1 0 0 1 0 1 1 0]\n",
      "score:  0.9649122807017544\n",
      "              precision    recall  f1-score   support\n",
      "\n",
      "           0       0.97      0.97      0.97        29\n",
      "           1       0.96      0.96      0.96        28\n",
      "\n",
      "    accuracy                           0.96        57\n",
      "   macro avg       0.96      0.96      0.96        57\n",
      "weighted avg       0.96      0.96      0.96        57\n",
      "\n",
      "[[28  1]\n",
      " [ 1 27]]\n"
     ]
    },
    {
     "data": {
      "image/png": "[encoded data removed]",
      "text/plain": [
       "<Figure size 288x288 with 2 Axes>"
      ]
     },
     "metadata": {
      "needs_background": "light"
     },
     "output_type": "display_data"
    },
    {
     "name": "stdout",
     "output_type": "stream",
     "text": [
      "SVM:\n",
      "result： [0 0 0 0 0 1 0 0 0 0 0 0 0 0 0 1 0 1 0 0 0 0 0 0 0 0 0 0 0 0 0 0 1 0 0 0 1\n",
      " 0 1 0 0 0 0 1 1 1 0 0 0 0 1 0 1 0 1 0 0]\n",
      "score:  0.9649122807017544\n",
      "              precision    recall  f1-score   support\n",
      "\n",
      "           0       0.98      0.98      0.98        45\n",
      "           1       0.92      0.92      0.92        12\n",
      "\n",
      "    accuracy                           0.96        57\n",
      "   macro avg       0.95      0.95      0.95        57\n",
      "weighted avg       0.96      0.96      0.96        57\n",
      "\n",
      "[[44  1]\n",
      " [ 1 11]]\n"
     ]
    },
    {
     "data": {
      "image/png": "[encoded data removed]",
      "text/plain": [
       "<Figure size 288x288 with 2 Axes>"
      ]
     },
     "metadata": {
      "needs_background": "light"
     },
     "output_type": "display_data"
    },
    {
     "name": "stdout",
     "output_type": "stream",
     "text": [
      "SVM:\n",
      "result： [0 1 0 0 0 0 0 0 0 1 1 1 0 0 0 0 0 0 0 0 0 0 0 1 1 0 1 1 1 0 1 1 0 0 0 0 0\n",
      " 0 0 0 0 0 0 0 0 0 0 1 0 0 1 1 0 0 0 0 0]\n",
      "score:  0.9649122807017544\n",
      "              precision    recall  f1-score   support\n",
      "\n",
      "           0       0.95      1.00      0.98        41\n",
      "           1       1.00      0.88      0.93        16\n",
      "\n",
      "    accuracy                           0.96        57\n",
      "   macro avg       0.98      0.94      0.95        57\n",
      "weighted avg       0.97      0.96      0.96        57\n",
      "\n",
      "[[41  0]\n",
      " [ 2 14]]\n"
     ]
    },
    {
     "data": {
      "image/png": "[encoded data removed]",
      "text/plain": [
       "<Figure size 288x288 with 2 Axes>"
      ]
     },
     "metadata": {
      "needs_background": "light"
     },
     "output_type": "display_data"
    },
    {
     "name": "stdout",
     "output_type": "stream",
     "text": [
      "SVM:\n",
      "result： [0 1 0 0 0 0 0 0 0 1 0 1 0 0 1 1 0 0 1 0 0 0 0 0 0 0 0 0 0 0 0 0 0 1 1 0 1\n",
      " 0 0 0 0 0 1 0 0 1 0 1 0 0 1 0 1 0 0 0 1]\n",
      "score:  0.9298245614035088\n",
      "              precision    recall  f1-score   support\n",
      "\n",
      "           0       0.98      0.93      0.95        44\n",
      "           1       0.80      0.92      0.86        13\n",
      "\n",
      "    accuracy                           0.93        57\n",
      "   macro avg       0.89      0.93      0.91        57\n",
      "weighted avg       0.94      0.93      0.93        57\n",
      "\n",
      "[[41  3]\n",
      " [ 1 12]]\n"
     ]
    },
    {
     "data": {
      "image/png": "[encoded data removed]",
      "text/plain": [
       "<Figure size 288x288 with 2 Axes>"
      ]
     },
     "metadata": {
      "needs_background": "light"
     },
     "output_type": "display_data"
    },
    {
     "name": "stdout",
     "output_type": "stream",
     "text": [
      "SVM:\n",
      "result： [0 0 0 0 1 1 0 0 0 0 0 0 1 0 0 0 0 0 0 0 1 0 0 0 0 1 0 0 0 0 0 1 0 1 0 1 1\n",
      " 0 0 0 0 0 1 1 0 1 0 1 0 0 0 0 0 1 0 0 1]\n",
      "score:  0.9298245614035088\n",
      "              precision    recall  f1-score   support\n",
      "\n",
      "           0       0.98      0.93      0.95        44\n",
      "           1       0.80      0.92      0.86        13\n",
      "\n",
      "    accuracy                           0.93        57\n",
      "   macro avg       0.89      0.93      0.91        57\n",
      "weighted avg       0.94      0.93      0.93        57\n",
      "\n",
      "[[41  3]\n",
      " [ 1 12]]\n"
     ]
    },
    {
     "data": {
      "image/png": "[encoded data removed]",
      "text/plain": [
       "<Figure size 288x288 with 2 Axes>"
      ]
     },
     "metadata": {
      "needs_background": "light"
     },
     "output_type": "display_data"
    },
    {
     "name": "stdout",
     "output_type": "stream",
     "text": [
      "SVM:\n",
      "result： [0 1 0 1 1 0 0 0 1 0 0 0 0 0 0 0 0 0 0 0 1 0 1 0 0 0 0 0 1 1 0 0 0 0 0 0 0\n",
      " 0 0 0 0 0 0 0 0 0 0 0 0 1 1 1 1 1 1 0]\n",
      "score:  0.9464285714285714\n",
      "              precision    recall  f1-score   support\n",
      "\n",
      "           0       0.98      0.95      0.96        43\n",
      "           1       0.86      0.92      0.89        13\n",
      "\n",
      "    accuracy                           0.95        56\n",
      "   macro avg       0.92      0.94      0.93        56\n",
      "weighted avg       0.95      0.95      0.95        56\n",
      "\n",
      "[[41  2]\n",
      " [ 1 12]]\n"
     ]
    },
    {
     "data": {
      "image/png": "[encoded data removed]",
      "text/plain": [
       "<Figure size 288x288 with 2 Axes>"
      ]
     },
     "metadata": {
      "needs_background": "light"
     },
     "output_type": "display_data"
    },
    {
     "name": "stdout",
     "output_type": "stream",
     "text": [
      "score_list: [0.8421052631578947, 0.9298245614035088, 0.9473684210526315, 0.9649122807017544, 0.9649122807017544, 0.9649122807017544, 0.9649122807017544, 0.9298245614035088, 0.9298245614035088, 0.9464285714285714]\n",
      "score: 0.9385025062656641\n",
      "auc_list: [0.9021739130434783, 0.9090909090909092, 0.9384920634920634, 0.9642857142857143, 0.9649014778325125, 0.9472222222222221, 0.9375, 0.9274475524475525, 0.9274475524475525, 0.9382826475849733]\n",
      "auc: 0.9356844052446978\n"
     ]
    }
   ],
   "source": [
    "# SVM after dropping\n",
    "\n",
    "score_list4 = []\n",
    "auc_list4 = []\n",
    "\n",
    "# split data into x and y\n",
    "selecteddata_y = selected_dataset.iloc[:,0]\n",
    "selecteddata_x = selected_dataset.iloc[:,1:18]\n",
    "# generate training dataset and testing dataset\n",
    "\n",
    "kf.get_n_splits(selecteddata_x)\n",
    "for train_index, test_index in kf.split(selecteddata_x):\n",
    "    #print(train_index,test_index)\n",
    "    selectedx_train, selectedx_test = selecteddata_x.iloc[train_index], selecteddata_x.iloc[test_index]\n",
    "    selectedy_train, selectedy_test = selecteddata_y[train_index], selecteddata_y[test_index]\n",
    "    # Prediction with RandomForset Model\n",
    "    print('SVM:')\n",
    "    fitting(svc_model, selectedx_train, selectedx_test, selectedy_train, selectedy_test, score_list4, auc_list4)\n",
    "print(\"score_list:\", score_list4)\n",
    "print(\"score:\", np.mean(score_list4))\n",
    "print(\"auc_list:\", auc_list4)\n",
    "print(\"auc:\", np.mean(auc_list4))"
   ]
  },
  {
   "cell_type": "code",
   "execution_count": 97,
   "metadata": {
    "scrolled": true
   },
   "outputs": [
    {
     "name": "stdout",
     "output_type": "stream",
     "text": [
      "LogisticRegression:\n",
      "result： [1 1 1 0 1 1 1 1 1 1 1 1 1 0 1 1 1 1 1 0 0 0 1 1 1 1 1 1 1 1 1 1 1 1 1 1 1\n",
      " 0 0 0 0 0 1 1 0 1 0 1 0 0 0 0 0 1 1 0 1]\n",
      "score:  0.8771929824561403\n",
      "              precision    recall  f1-score   support\n",
      "\n",
      "           0       0.61      1.00      0.76        11\n",
      "           1       1.00      0.85      0.92        46\n",
      "\n",
      "    accuracy                           0.88        57\n",
      "   macro avg       0.81      0.92      0.84        57\n",
      "weighted avg       0.92      0.88      0.89        57\n",
      "\n",
      "[[11  0]\n",
      " [ 7 39]]\n"
     ]
    },
    {
     "name": "stderr",
     "output_type": "stream",
     "text": [
      "E:\\Anaconda\\lib\\site-packages\\sklearn\\linear_model\\logistic.py:432: FutureWarning: Default solver will be changed to 'lbfgs' in 0.22. Specify a solver to silence this warning.\n",
      "  FutureWarning)\n"
     ]
    },
    {
     "data": {
      "image/png": "[encoded data removed]",
      "text/plain": [
       "<Figure size 288x288 with 2 Axes>"
      ]
     },
     "metadata": {
      "needs_background": "light"
     },
     "output_type": "display_data"
    },
    {
     "name": "stdout",
     "output_type": "stream",
     "text": [
      "LogisticRegression:\n",
      "result： [1 0 0 0 0 1 0 1 1 0 0 0 0 1 0 1 0 0 1 0 1 1 0 0 0 1 1 0 1 0 1 0 0 0 0 0 0\n",
      " 1 1 0 0 0 1 1 0 0 0 0 1 0 0 1 0 0 0 0 0]\n",
      "score:  0.9473684210526315\n",
      "              precision    recall  f1-score   support\n",
      "\n",
      "           0       0.92      1.00      0.96        35\n",
      "           1       1.00      0.86      0.93        22\n",
      "\n",
      "    accuracy                           0.95        57\n",
      "   macro avg       0.96      0.93      0.94        57\n",
      "weighted avg       0.95      0.95      0.95        57\n",
      "\n",
      "[[35  0]\n",
      " [ 3 19]]\n"
     ]
    },
    {
     "name": "stderr",
     "output_type": "stream",
     "text": [
      "E:\\Anaconda\\lib\\site-packages\\sklearn\\linear_model\\logistic.py:432: FutureWarning: Default solver will be changed to 'lbfgs' in 0.22. Specify a solver to silence this warning.\n",
      "  FutureWarning)\n"
     ]
    },
    {
     "data": {
      "image/png": "[encoded data removed]",
      "text/plain": [
       "<Figure size 288x288 with 2 Axes>"
      ]
     },
     "metadata": {
      "needs_background": "light"
     },
     "output_type": "display_data"
    },
    {
     "name": "stderr",
     "output_type": "stream",
     "text": [
      "E:\\Anaconda\\lib\\site-packages\\sklearn\\linear_model\\logistic.py:432: FutureWarning: Default solver will be changed to 'lbfgs' in 0.22. Specify a solver to silence this warning.\n",
      "  FutureWarning)\n"
     ]
    },
    {
     "name": "stdout",
     "output_type": "stream",
     "text": [
      "LogisticRegression:\n",
      "result： [0 0 0 1 1 1 0 1 1 0 0 0 1 1 0 1 0 1 1 0 1 0 0 0 1 0 0 1 0 0 0 0 0 0 0 0 0\n",
      " 0 0 0 0 0 1 1 0 0 0 1 1 0 1 0 0 1 1 0 0]\n",
      "score:  0.9473684210526315\n",
      "              precision    recall  f1-score   support\n",
      "\n",
      "           0       0.95      0.97      0.96        36\n",
      "           1       0.95      0.90      0.93        21\n",
      "\n",
      "    accuracy                           0.95        57\n",
      "   macro avg       0.95      0.94      0.94        57\n",
      "weighted avg       0.95      0.95      0.95        57\n",
      "\n",
      "[[35  1]\n",
      " [ 2 19]]\n"
     ]
    },
    {
     "data": {
      "image/png": "[encoded data removed]",
      "text/plain": [
       "<Figure size 288x288 with 2 Axes>"
      ]
     },
     "metadata": {
      "needs_background": "light"
     },
     "output_type": "display_data"
    },
    {
     "name": "stderr",
     "output_type": "stream",
     "text": [
      "E:\\Anaconda\\lib\\site-packages\\sklearn\\linear_model\\logistic.py:432: FutureWarning: Default solver will be changed to 'lbfgs' in 0.22. Specify a solver to silence this warning.\n",
      "  FutureWarning)\n"
     ]
    },
    {
     "name": "stdout",
     "output_type": "stream",
     "text": [
      "LogisticRegression:\n",
      "result： [1 1 0 0 0 0 1 0 0 1 1 1 0 1 0 1 0 0 0 1 0 0 1 0 0 1 1 1 1 0 1 1 1 0 1 0 1\n",
      " 0 0 1 0 1 1 1 0 0 0 1 1 0 0 0 1 0 0 0 0]\n",
      "score:  0.9649122807017544\n",
      "              precision    recall  f1-score   support\n",
      "\n",
      "           0       0.94      1.00      0.97        29\n",
      "           1       1.00      0.93      0.96        28\n",
      "\n",
      "    accuracy                           0.96        57\n",
      "   macro avg       0.97      0.96      0.96        57\n",
      "weighted avg       0.97      0.96      0.96        57\n",
      "\n",
      "[[29  0]\n",
      " [ 2 26]]\n"
     ]
    },
    {
     "data": {
      "image/png": "[encoded data removed]",
      "text/plain": [
       "<Figure size 288x288 with 2 Axes>"
      ]
     },
     "metadata": {
      "needs_background": "light"
     },
     "output_type": "display_data"
    },
    {
     "name": "stderr",
     "output_type": "stream",
     "text": [
      "E:\\Anaconda\\lib\\site-packages\\sklearn\\linear_model\\logistic.py:432: FutureWarning: Default solver will be changed to 'lbfgs' in 0.22. Specify a solver to silence this warning.\n",
      "  FutureWarning)\n"
     ]
    },
    {
     "name": "stdout",
     "output_type": "stream",
     "text": [
      "LogisticRegression:\n",
      "result： [0 1 1 0 0 1 0 0 1 1 1 1 0 0 0 0 1 0 0 0 0 0 1 0 1 1 1 0 1 1 1 1 1 1 1 1 1\n",
      " 1 0 0 0 0 0 0 1 0 1 0 0 1 0 0 1 0 1 1 0]\n",
      "score:  0.9649122807017544\n",
      "              precision    recall  f1-score   support\n",
      "\n",
      "           0       0.97      0.97      0.97        29\n",
      "           1       0.96      0.96      0.96        28\n",
      "\n",
      "    accuracy                           0.96        57\n",
      "   macro avg       0.96      0.96      0.96        57\n",
      "weighted avg       0.96      0.96      0.96        57\n",
      "\n",
      "[[28  1]\n",
      " [ 1 27]]\n"
     ]
    },
    {
     "data": {
      "image/png": "[encoded data removed]",
      "text/plain": [
       "<Figure size 288x288 with 2 Axes>"
      ]
     },
     "metadata": {
      "needs_background": "light"
     },
     "output_type": "display_data"
    },
    {
     "name": "stderr",
     "output_type": "stream",
     "text": [
      "E:\\Anaconda\\lib\\site-packages\\sklearn\\linear_model\\logistic.py:432: FutureWarning: Default solver will be changed to 'lbfgs' in 0.22. Specify a solver to silence this warning.\n",
      "  FutureWarning)\n"
     ]
    },
    {
     "name": "stdout",
     "output_type": "stream",
     "text": [
      "LogisticRegression:\n",
      "result： [0 0 0 0 0 1 0 0 0 0 0 0 0 0 0 1 0 1 0 0 0 0 0 0 0 0 0 0 0 0 0 0 1 0 0 0 1\n",
      " 0 1 0 0 0 0 1 1 1 0 0 0 0 1 0 1 0 1 1 0]\n",
      "score:  0.9473684210526315\n",
      "              precision    recall  f1-score   support\n",
      "\n",
      "           0       0.98      0.96      0.97        45\n",
      "           1       0.85      0.92      0.88        12\n",
      "\n",
      "    accuracy                           0.95        57\n",
      "   macro avg       0.91      0.94      0.92        57\n",
      "weighted avg       0.95      0.95      0.95        57\n",
      "\n",
      "[[43  2]\n",
      " [ 1 11]]\n"
     ]
    },
    {
     "data": {
      "image/png": "[encoded data removed]",
      "text/plain": [
       "<Figure size 288x288 with 2 Axes>"
      ]
     },
     "metadata": {
      "needs_background": "light"
     },
     "output_type": "display_data"
    },
    {
     "name": "stderr",
     "output_type": "stream",
     "text": [
      "E:\\Anaconda\\lib\\site-packages\\sklearn\\linear_model\\logistic.py:432: FutureWarning: Default solver will be changed to 'lbfgs' in 0.22. Specify a solver to silence this warning.\n",
      "  FutureWarning)\n"
     ]
    },
    {
     "name": "stdout",
     "output_type": "stream",
     "text": [
      "LogisticRegression:\n",
      "result： [0 1 0 0 0 0 0 0 0 1 1 1 0 0 0 0 0 0 0 0 0 0 0 1 1 0 1 1 1 0 1 1 0 0 0 0 0\n",
      " 1 0 0 0 0 0 0 0 0 0 1 0 0 1 1 0 0 0 0 0]\n",
      "score:  0.9824561403508771\n",
      "              precision    recall  f1-score   support\n",
      "\n",
      "           0       0.98      1.00      0.99        41\n",
      "           1       1.00      0.94      0.97        16\n",
      "\n",
      "    accuracy                           0.98        57\n",
      "   macro avg       0.99      0.97      0.98        57\n",
      "weighted avg       0.98      0.98      0.98        57\n",
      "\n",
      "[[41  0]\n",
      " [ 1 15]]\n"
     ]
    },
    {
     "data": {
      "image/png": "[encoded data removed]",
      "text/plain": [
       "<Figure size 288x288 with 2 Axes>"
      ]
     },
     "metadata": {
      "needs_background": "light"
     },
     "output_type": "display_data"
    },
    {
     "name": "stdout",
     "output_type": "stream",
     "text": [
      "LogisticRegression:\n",
      "result： [0 1 0 0 0 0 0 0 0 1 0 1 0 0 1 1 0 0 1 0 0 0 0 0 0 0 0 0 0 0 0 1 0 1 1 0 1\n",
      " 0 0 0 0 0 1 0 0 1 0 1 0 0 1 0 1 0 0 0 1]\n",
      "score:  0.9473684210526315\n",
      "              precision    recall  f1-score   support\n",
      "\n",
      "           0       1.00      0.93      0.96        44\n",
      "           1       0.81      1.00      0.90        13\n",
      "\n",
      "    accuracy                           0.95        57\n",
      "   macro avg       0.91      0.97      0.93        57\n",
      "weighted avg       0.96      0.95      0.95        57\n",
      "\n",
      "[[41  3]\n",
      " [ 0 13]]\n"
     ]
    },
    {
     "name": "stderr",
     "output_type": "stream",
     "text": [
      "E:\\Anaconda\\lib\\site-packages\\sklearn\\linear_model\\logistic.py:432: FutureWarning: Default solver will be changed to 'lbfgs' in 0.22. Specify a solver to silence this warning.\n",
      "  FutureWarning)\n"
     ]
    },
    {
     "data": {
      "image/png": "[encoded data removed]",
      "text/plain": [
       "<Figure size 288x288 with 2 Axes>"
      ]
     },
     "metadata": {
      "needs_background": "light"
     },
     "output_type": "display_data"
    },
    {
     "name": "stdout",
     "output_type": "stream",
     "text": [
      "LogisticRegression:\n",
      "result： [0 0 0 0 1 1 0 0 0 1 0 0 1 0 0 0 0 0 0 0 1 0 0 1 0 0 0 0 0 0 0 1 0 1 0 1 1\n",
      " 0 0 0 0 0 1 1 0 1 0 1 0 0 0 0 0 1 0 0 1]\n",
      "score:  0.9473684210526315\n",
      "              precision    recall  f1-score   support\n",
      "\n",
      "           0       1.00      0.93      0.96        44\n",
      "           1       0.81      1.00      0.90        13\n",
      "\n",
      "    accuracy                           0.95        57\n",
      "   macro avg       0.91      0.97      0.93        57\n",
      "weighted avg       0.96      0.95      0.95        57\n",
      "\n",
      "[[41  3]\n",
      " [ 0 13]]\n"
     ]
    },
    {
     "name": "stderr",
     "output_type": "stream",
     "text": [
      "E:\\Anaconda\\lib\\site-packages\\sklearn\\linear_model\\logistic.py:432: FutureWarning: Default solver will be changed to 'lbfgs' in 0.22. Specify a solver to silence this warning.\n",
      "  FutureWarning)\n"
     ]
    },
    {
     "data": {
      "image/png": "[encoded data removed]",
      "text/plain": [
       "<Figure size 288x288 with 2 Axes>"
      ]
     },
     "metadata": {
      "needs_background": "light"
     },
     "output_type": "display_data"
    },
    {
     "name": "stderr",
     "output_type": "stream",
     "text": [
      "E:\\Anaconda\\lib\\site-packages\\sklearn\\linear_model\\logistic.py:432: FutureWarning: Default solver will be changed to 'lbfgs' in 0.22. Specify a solver to silence this warning.\n",
      "  FutureWarning)\n"
     ]
    },
    {
     "name": "stdout",
     "output_type": "stream",
     "text": [
      "LogisticRegression:\n",
      "result： [0 1 0 1 1 0 0 0 1 0 0 0 0 0 0 0 0 0 0 0 1 0 1 0 0 0 0 0 1 0 0 0 0 0 0 0 0\n",
      " 0 0 0 0 0 0 0 0 0 0 0 0 1 1 1 1 1 1 0]\n",
      "score:  0.9642857142857143\n",
      "              precision    recall  f1-score   support\n",
      "\n",
      "           0       0.98      0.98      0.98        43\n",
      "           1       0.92      0.92      0.92        13\n",
      "\n",
      "    accuracy                           0.96        56\n",
      "   macro avg       0.95      0.95      0.95        56\n",
      "weighted avg       0.96      0.96      0.96        56\n",
      "\n",
      "[[42  1]\n",
      " [ 1 12]]\n"
     ]
    },
    {
     "data": {
      "image/png": "[encoded data removed]",
      "text/plain": [
       "<Figure size 288x288 with 2 Axes>"
      ]
     },
     "metadata": {
      "needs_background": "light"
     },
     "output_type": "display_data"
    },
    {
     "name": "stdout",
     "output_type": "stream",
     "text": [
      "score_list: [0.8771929824561403, 0.9473684210526315, 0.9473684210526315, 0.9649122807017544, 0.9649122807017544, 0.9473684210526315, 0.9824561403508771, 0.9473684210526315, 0.9473684210526315, 0.9642857142857143]\n",
      "score: 0.9490601503759397\n",
      "auc_list: [0.9239130434782609, 0.9318181818181819, 0.9384920634920634, 0.9642857142857143, 0.9649014778325125, 0.9361111111111111, 0.96875, 0.9659090909090909, 0.9659090909090909, 0.9499105545617172]\n",
      "auc: 0.9510000328397743\n"
     ]
    }
   ],
   "source": [
    "#LogisticRegression Original\n",
    "from sklearn.linear_model import LogisticRegression\n",
    "\n",
    "score_list5 = []\n",
    "auc_list5 = []\n",
    "\n",
    "#Logistic Regression\n",
    "logreg = LogisticRegression()\n",
    "\n",
    "for train_index, test_index in kf.split(data_x):\n",
    "    #print(train_index,test_index)\n",
    "    x_train, x_test = data_x.iloc[train_index], data_x.iloc[test_index]\n",
    "    y_train, y_test = data_y[train_index], data_y[test_index]\n",
    "    # Prediction with RandomForset Model\n",
    "    print('LogisticRegression:')\n",
    "    fitting(logreg, x_train, x_test, y_train, y_test, score_list5, auc_list5)\n",
    "print(\"score_list:\", score_list5)\n",
    "print(\"score:\", np.mean(score_list5))\n",
    "print(\"auc_list:\", auc_list5)\n",
    "print(\"auc:\", np.mean(auc_list5))"
   ]
  },
  {
   "cell_type": "code",
   "execution_count": 98,
   "metadata": {
    "scrolled": false
   },
   "outputs": [
    {
     "name": "stdout",
     "output_type": "stream",
     "text": [
      "LogisticRegression:\n",
      "result： [1 1 1 0 1 1 1 1 0 1 1 1 1 0 0 1 1 1 1 0 0 0 1 1 1 1 1 1 1 1 1 1 1 1 1 1 0\n",
      " 0 0 0 0 0 1 1 0 1 0 1 0 0 0 0 0 1 1 0 1]\n",
      "score:  0.8245614035087719\n",
      "              precision    recall  f1-score   support\n",
      "\n",
      "           0       0.52      1.00      0.69        11\n",
      "           1       1.00      0.78      0.88        46\n",
      "\n",
      "    accuracy                           0.82        57\n",
      "   macro avg       0.76      0.89      0.78        57\n",
      "weighted avg       0.91      0.82      0.84        57\n",
      "\n",
      "[[11  0]\n",
      " [10 36]]\n"
     ]
    },
    {
     "name": "stderr",
     "output_type": "stream",
     "text": [
      "E:\\Anaconda\\lib\\site-packages\\sklearn\\linear_model\\logistic.py:432: FutureWarning: Default solver will be changed to 'lbfgs' in 0.22. Specify a solver to silence this warning.\n",
      "  FutureWarning)\n"
     ]
    },
    {
     "data": {
      "image/png": "[encoded data removed]",
      "text/plain": [
       "<Figure size 288x288 with 2 Axes>"
      ]
     },
     "metadata": {
      "needs_background": "light"
     },
     "output_type": "display_data"
    },
    {
     "name": "stdout",
     "output_type": "stream",
     "text": [
      "LogisticRegression:\n",
      "result： [1 0 0 0 0 1 0 1 1 0 0 0 0 1 0 1 0 0 1 0 1 1 0 0 0 1 0 0 1 0 1 0 0 0 0 1 0\n",
      " 1 1 0 0 0 0 1 0 0 0 0 1 0 0 1 0 0 0 0 0]\n",
      "score:  0.8947368421052632\n",
      "              precision    recall  f1-score   support\n",
      "\n",
      "           0       0.87      0.97      0.92        35\n",
      "           1       0.94      0.77      0.85        22\n",
      "\n",
      "    accuracy                           0.89        57\n",
      "   macro avg       0.91      0.87      0.88        57\n",
      "weighted avg       0.90      0.89      0.89        57\n",
      "\n",
      "[[34  1]\n",
      " [ 5 17]]\n"
     ]
    },
    {
     "name": "stderr",
     "output_type": "stream",
     "text": [
      "E:\\Anaconda\\lib\\site-packages\\sklearn\\linear_model\\logistic.py:432: FutureWarning: Default solver will be changed to 'lbfgs' in 0.22. Specify a solver to silence this warning.\n",
      "  FutureWarning)\n"
     ]
    },
    {
     "data": {
      "image/png": "[encoded data removed]",
      "text/plain": [
       "<Figure size 288x288 with 2 Axes>"
      ]
     },
     "metadata": {
      "needs_background": "light"
     },
     "output_type": "display_data"
    },
    {
     "name": "stderr",
     "output_type": "stream",
     "text": [
      "E:\\Anaconda\\lib\\site-packages\\sklearn\\linear_model\\logistic.py:432: FutureWarning: Default solver will be changed to 'lbfgs' in 0.22. Specify a solver to silence this warning.\n",
      "  FutureWarning)\n"
     ]
    },
    {
     "name": "stdout",
     "output_type": "stream",
     "text": [
      "LogisticRegression:\n",
      "result： [0 0 0 1 1 1 0 1 1 0 0 0 1 1 0 1 0 1 1 0 1 0 0 0 1 0 0 1 0 0 0 0 0 0 0 0 0\n",
      " 0 0 0 0 0 1 1 0 0 0 1 1 0 1 0 0 1 1 0 0]\n",
      "score:  0.9473684210526315\n",
      "              precision    recall  f1-score   support\n",
      "\n",
      "           0       0.95      0.97      0.96        36\n",
      "           1       0.95      0.90      0.93        21\n",
      "\n",
      "    accuracy                           0.95        57\n",
      "   macro avg       0.95      0.94      0.94        57\n",
      "weighted avg       0.95      0.95      0.95        57\n",
      "\n",
      "[[35  1]\n",
      " [ 2 19]]\n"
     ]
    },
    {
     "data": {
      "image/png": "[encoded data removed]",
      "text/plain": [
       "<Figure size 288x288 with 2 Axes>"
      ]
     },
     "metadata": {
      "needs_background": "light"
     },
     "output_type": "display_data"
    },
    {
     "name": "stderr",
     "output_type": "stream",
     "text": [
      "E:\\Anaconda\\lib\\site-packages\\sklearn\\linear_model\\logistic.py:432: FutureWarning: Default solver will be changed to 'lbfgs' in 0.22. Specify a solver to silence this warning.\n",
      "  FutureWarning)\n"
     ]
    },
    {
     "name": "stdout",
     "output_type": "stream",
     "text": [
      "LogisticRegression:\n",
      "result： [1 1 0 0 0 0 0 0 0 1 1 1 0 1 0 1 0 0 0 1 0 0 1 0 0 1 1 1 1 0 1 1 1 0 1 0 1\n",
      " 0 0 1 0 1 0 0 0 0 0 1 1 0 0 0 1 0 1 0 0]\n",
      "score:  0.8947368421052632\n",
      "              precision    recall  f1-score   support\n",
      "\n",
      "           0       0.85      0.97      0.90        29\n",
      "           1       0.96      0.82      0.88        28\n",
      "\n",
      "    accuracy                           0.89        57\n",
      "   macro avg       0.90      0.89      0.89        57\n",
      "weighted avg       0.90      0.89      0.89        57\n",
      "\n",
      "[[28  1]\n",
      " [ 5 23]]\n"
     ]
    },
    {
     "data": {
      "image/png": "[encoded data removed]",
      "text/plain": [
       "<Figure size 288x288 with 2 Axes>"
      ]
     },
     "metadata": {
      "needs_background": "light"
     },
     "output_type": "display_data"
    },
    {
     "name": "stderr",
     "output_type": "stream",
     "text": [
      "E:\\Anaconda\\lib\\site-packages\\sklearn\\linear_model\\logistic.py:432: FutureWarning: Default solver will be changed to 'lbfgs' in 0.22. Specify a solver to silence this warning.\n",
      "  FutureWarning)\n"
     ]
    },
    {
     "name": "stdout",
     "output_type": "stream",
     "text": [
      "LogisticRegression:\n",
      "result： [0 0 1 0 0 1 0 0 1 1 0 1 0 0 0 0 1 0 0 0 0 0 1 0 1 1 1 1 1 1 1 1 1 1 1 1 1\n",
      " 1 0 0 0 0 0 0 1 0 1 0 0 0 0 0 1 0 1 1 0]\n",
      "score:  0.9649122807017544\n",
      "              precision    recall  f1-score   support\n",
      "\n",
      "           0       0.94      1.00      0.97        29\n",
      "           1       1.00      0.93      0.96        28\n",
      "\n",
      "    accuracy                           0.96        57\n",
      "   macro avg       0.97      0.96      0.96        57\n",
      "weighted avg       0.97      0.96      0.96        57\n",
      "\n",
      "[[29  0]\n",
      " [ 2 26]]\n"
     ]
    },
    {
     "data": {
      "image/png": "[encoded data removed]",
      "text/plain": [
       "<Figure size 288x288 with 2 Axes>"
      ]
     },
     "metadata": {
      "needs_background": "light"
     },
     "output_type": "display_data"
    },
    {
     "name": "stderr",
     "output_type": "stream",
     "text": [
      "E:\\Anaconda\\lib\\site-packages\\sklearn\\linear_model\\logistic.py:432: FutureWarning: Default solver will be changed to 'lbfgs' in 0.22. Specify a solver to silence this warning.\n",
      "  FutureWarning)\n"
     ]
    },
    {
     "name": "stdout",
     "output_type": "stream",
     "text": [
      "LogisticRegression:\n",
      "result： [0 0 0 0 0 1 0 0 0 0 0 0 0 0 0 1 0 1 0 0 0 0 0 0 0 0 0 0 0 0 0 0 1 0 0 0 1\n",
      " 0 1 0 0 0 0 1 1 1 0 0 0 0 1 0 1 0 1 1 0]\n",
      "score:  0.9473684210526315\n",
      "              precision    recall  f1-score   support\n",
      "\n",
      "           0       0.98      0.96      0.97        45\n",
      "           1       0.85      0.92      0.88        12\n",
      "\n",
      "    accuracy                           0.95        57\n",
      "   macro avg       0.91      0.94      0.92        57\n",
      "weighted avg       0.95      0.95      0.95        57\n",
      "\n",
      "[[43  2]\n",
      " [ 1 11]]\n"
     ]
    },
    {
     "data": {
      "image/png": "[encoded data removed]",
      "text/plain": [
       "<Figure size 288x288 with 2 Axes>"
      ]
     },
     "metadata": {
      "needs_background": "light"
     },
     "output_type": "display_data"
    },
    {
     "name": "stdout",
     "output_type": "stream",
     "text": [
      "LogisticRegression:\n",
      "result： [0 1 0 0 0 1 0 0 0 1 1 1 0 0 0 0 0 0 0 0 0 0 0 1 1 0 1 1 1 0 0 1 0 0 0 0 0\n",
      " 0 0 0 0 0 0 0 0 0 0 1 0 0 1 1 0 0 0 0 0]\n",
      "score:  0.9298245614035088\n",
      "              precision    recall  f1-score   support\n",
      "\n",
      "           0       0.93      0.98      0.95        41\n",
      "           1       0.93      0.81      0.87        16\n",
      "\n",
      "    accuracy                           0.93        57\n",
      "   macro avg       0.93      0.89      0.91        57\n",
      "weighted avg       0.93      0.93      0.93        57\n",
      "\n",
      "[[40  1]\n",
      " [ 3 13]]\n"
     ]
    },
    {
     "name": "stderr",
     "output_type": "stream",
     "text": [
      "E:\\Anaconda\\lib\\site-packages\\sklearn\\linear_model\\logistic.py:432: FutureWarning: Default solver will be changed to 'lbfgs' in 0.22. Specify a solver to silence this warning.\n",
      "  FutureWarning)\n"
     ]
    },
    {
     "data": {
      "image/png": "[encoded data removed]",
      "text/plain": [
       "<Figure size 288x288 with 2 Axes>"
      ]
     },
     "metadata": {
      "needs_background": "light"
     },
     "output_type": "display_data"
    },
    {
     "name": "stdout",
     "output_type": "stream",
     "text": [
      "LogisticRegression:\n",
      "result： [0 1 0 0 0 0 0 0 0 1 0 1 0 0 1 1 0 0 1 0 0 0 0 0 0 0 0 0 0 0 0 0 0 1 1 0 1\n",
      " 0 0 0 0 0 1 0 0 1 0 1 0 0 1 0 1 0 0 0 0]\n",
      "score:  0.9473684210526315\n",
      "              precision    recall  f1-score   support\n",
      "\n",
      "           0       0.98      0.95      0.97        44\n",
      "           1       0.86      0.92      0.89        13\n",
      "\n",
      "    accuracy                           0.95        57\n",
      "   macro avg       0.92      0.94      0.93        57\n",
      "weighted avg       0.95      0.95      0.95        57\n",
      "\n",
      "[[42  2]\n",
      " [ 1 12]]\n"
     ]
    },
    {
     "name": "stderr",
     "output_type": "stream",
     "text": [
      "E:\\Anaconda\\lib\\site-packages\\sklearn\\linear_model\\logistic.py:432: FutureWarning: Default solver will be changed to 'lbfgs' in 0.22. Specify a solver to silence this warning.\n",
      "  FutureWarning)\n"
     ]
    },
    {
     "data": {
      "image/png": "[encoded data removed]",
      "text/plain": [
       "<Figure size 288x288 with 2 Axes>"
      ]
     },
     "metadata": {
      "needs_background": "light"
     },
     "output_type": "display_data"
    },
    {
     "name": "stdout",
     "output_type": "stream",
     "text": [
      "LogisticRegression:\n",
      "result： [0 0 0 0 1 1 0 0 0 0 0 0 1 0 0 0 0 0 0 0 1 0 0 0 0 1 0 0 0 0 0 1 0 1 0 1 1\n",
      " 0 0 0 0 0 1 1 0 1 0 1 0 0 0 0 0 1 0 0 1]\n",
      "score:  0.9298245614035088\n",
      "              precision    recall  f1-score   support\n",
      "\n",
      "           0       0.98      0.93      0.95        44\n",
      "           1       0.80      0.92      0.86        13\n",
      "\n",
      "    accuracy                           0.93        57\n",
      "   macro avg       0.89      0.93      0.91        57\n",
      "weighted avg       0.94      0.93      0.93        57\n",
      "\n",
      "[[41  3]\n",
      " [ 1 12]]\n"
     ]
    },
    {
     "name": "stderr",
     "output_type": "stream",
     "text": [
      "E:\\Anaconda\\lib\\site-packages\\sklearn\\linear_model\\logistic.py:432: FutureWarning: Default solver will be changed to 'lbfgs' in 0.22. Specify a solver to silence this warning.\n",
      "  FutureWarning)\n"
     ]
    },
    {
     "data": {
      "image/png": "[encoded data removed]",
      "text/plain": [
       "<Figure size 288x288 with 2 Axes>"
      ]
     },
     "metadata": {
      "needs_background": "light"
     },
     "output_type": "display_data"
    },
    {
     "name": "stdout",
     "output_type": "stream",
     "text": [
      "LogisticRegression:\n",
      "result： [1 1 0 1 1 0 0 0 1 0 0 0 0 0 0 0 0 0 0 0 1 0 1 0 0 0 0 0 0 0 0 0 0 0 0 0 0\n",
      " 0 0 0 0 0 0 0 0 0 0 0 0 1 1 1 1 1 1 0]\n",
      "score:  0.9642857142857143\n",
      "              precision    recall  f1-score   support\n",
      "\n",
      "           0       0.98      0.98      0.98        43\n",
      "           1       0.92      0.92      0.92        13\n",
      "\n",
      "    accuracy                           0.96        56\n",
      "   macro avg       0.95      0.95      0.95        56\n",
      "weighted avg       0.96      0.96      0.96        56\n",
      "\n",
      "[[42  1]\n",
      " [ 1 12]]\n"
     ]
    },
    {
     "name": "stderr",
     "output_type": "stream",
     "text": [
      "E:\\Anaconda\\lib\\site-packages\\sklearn\\linear_model\\logistic.py:432: FutureWarning: Default solver will be changed to 'lbfgs' in 0.22. Specify a solver to silence this warning.\n",
      "  FutureWarning)\n"
     ]
    },
    {
     "data": {
      "image/png": "[encoded data removed]",
      "text/plain": [
       "<Figure size 288x288 with 2 Axes>"
      ]
     },
     "metadata": {
      "needs_background": "light"
     },
     "output_type": "display_data"
    },
    {
     "name": "stdout",
     "output_type": "stream",
     "text": [
      "score_list: [0.8245614035087719, 0.8947368421052632, 0.9473684210526315, 0.8947368421052632, 0.9649122807017544, 0.9473684210526315, 0.9298245614035088, 0.9473684210526315, 0.9298245614035088, 0.9642857142857143]\n",
      "score: 0.9244987468671679\n",
      "auc_list: [0.8913043478260869, 0.8720779220779221, 0.9384920634920634, 0.8934729064039408, 0.9642857142857143, 0.9361111111111111, 0.8940548780487805, 0.9388111888111889, 0.9274475524475525, 0.9499105545617172]\n",
      "auc: 0.9205968239066076\n"
     ]
    }
   ],
   "source": [
    "# LogisticRegression after dropping\n",
    "\n",
    "score_list6 = []\n",
    "auc_list6 = []\n",
    "\n",
    "# split data into x and y\n",
    "selecteddata_y = selected_dataset.iloc[:,0]\n",
    "selecteddata_x = selected_dataset.iloc[:,1:18]\n",
    "# generate training dataset and testing dataset\n",
    "\n",
    "kf.get_n_splits(selecteddata_x)\n",
    "for train_index, test_index in kf.split(selecteddata_x):\n",
    "    #print(train_index,test_index)\n",
    "    selectedx_train, selectedx_test = selecteddata_x.iloc[train_index], selecteddata_x.iloc[test_index]\n",
    "    selectedy_train, selectedy_test = selecteddata_y[train_index], selecteddata_y[test_index]\n",
    "    # Prediction with RandomForset Model\n",
    "    print('LogisticRegression:')\n",
    "    fitting(logreg, selectedx_train, selectedx_test, selectedy_train, selectedy_test, score_list6, auc_list6)\n",
    "print(\"score_list:\", score_list6)\n",
    "print(\"score:\", np.mean(score_list6))\n",
    "print(\"auc_list:\", auc_list6)\n",
    "print(\"auc:\", np.mean(auc_list6))"
   ]
  }
 ],
 "metadata": {
  "kernelspec": {
   "display_name": "Python 3",
   "language": "python",
   "name": "python3"
  },
  "language_info": {
   "codemirror_mode": {
    "name": "ipython",
    "version": 3
   },
   "file_extension": ".py",
   "mimetype": "text/x-python",
   "name": "python",
   "nbconvert_exporter": "python",
   "pygments_lexer": "ipython3",
   "version": "3.7.4"
  }
 },
 "nbformat": 4,
 "nbformat_minor": 2
}
